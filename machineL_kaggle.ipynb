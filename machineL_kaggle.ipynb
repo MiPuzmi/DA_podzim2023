{
 "cells": [
  {
   "cell_type": "code",
   "execution_count": 27,
   "metadata": {},
   "outputs": [],
   "source": [
    "# nejdříve jsme si otevřely náš soubor pomocí knihovny pandas, odstranily záporné skóre a null hodnoty\n",
    "# skóre jsme vynásobily 2 abychom získaly celé číslo\n",
    "\n",
    "import pandas as pd\n",
    "data = pd.read_csv('soubory/Cukrarny_all_v3_20231111.csv')\n",
    "\n",
    "positive_data = data[data['score'] != -1]\n",
    "positive_data.loc[:, 'score'] = positive_data['score'] * 2"
   ]
  },
  {
   "cell_type": "code",
   "execution_count": 28,
   "metadata": {},
   "outputs": [],
   "source": [
    "#rozdělily jsme data na skóre, které budeme chtít predikovat a na sloupce, které budou vloženy do našeho modelu (informace o poloze)\n",
    "y = positive_data.score\n",
    "\n",
    "positive_features = ['gps_latitude', 'gps_longitude', 'zip']\n",
    "\n",
    "X = positive_data[positive_features]\n",
    "\n"
   ]
  },
  {
   "cell_type": "code",
   "execution_count": 29,
   "metadata": {},
   "outputs": [],
   "source": [
    "# z dat jsme oddělily 1/4 na které jsme pak testovaly úspěšnost našeho modelu\n",
    "from sklearn.model_selection import train_test_split\n",
    "\n",
    "train_X, val_X, train_y, val_y = train_test_split(X, y, test_size=0.25, random_state = 0)"
   ]
  },
  {
   "cell_type": "code",
   "execution_count": 30,
   "metadata": {},
   "outputs": [],
   "source": [
    "# pro vytvoření modelu jsme použily rozhodovací strom DecisionTreeClassifier\n",
    "from sklearn.tree import DecisionTreeClassifier\n",
    "\n",
    "\n",
    "our_model = DecisionTreeClassifier(random_state=0)\n",
    "our_model.fit(train_X, train_y)\n",
    "prediction = our_model.predict(val_X)\n"
   ]
  },
  {
   "cell_type": "code",
   "execution_count": 31,
   "metadata": {},
   "outputs": [
    {
     "name": "stdout",
     "output_type": "stream",
     "text": [
      "[[ 0  0  0  0  0  0  0  0  0  1]\n",
      " [ 0  0  0  0  0  0  0  0  0  2]\n",
      " [ 0  0  0  0  0  0  0  0  0  0]\n",
      " [ 0  0  0  0  0  0  0  0  0  2]\n",
      " [ 0  0  0  1  1  0  0  0  2  0]\n",
      " [ 0  0  0  0  0  0  0  0  2  1]\n",
      " [ 0  0  0  0  0  0  0  0  2  4]\n",
      " [ 0  0  0  0  0  1  0  2  5 11]\n",
      " [ 0  1  1  0  1  0  2  2 17 17]\n",
      " [ 0  3  1  0  2  1  2 10 14 21]]\n",
      "Accuracy: 32.69 %\n",
      "Standard Deviation: 7.31 %\n",
      "Mean Absolute error: 1.7196969696969697\n"
     ]
    },
    {
     "name": "stderr",
     "output_type": "stream",
     "text": [
      "/Library/Frameworks/Python.framework/Versions/3.11/lib/python3.11/site-packages/sklearn/model_selection/_split.py:737: UserWarning: The least populated class in y has only 3 members, which is less than n_splits=10.\n",
      "  warnings.warn(\n"
     ]
    }
   ],
   "source": [
    "# zde jsem si vyhodnotily úspěšnost našeho modelu\n",
    "# Ve výsledné matici je vidět, že skóre není možné předpovědět jen na základě polohy cukrárny, u fungujícího modelu by výsledky byly ideálně na uhlopříčce z levého horního rohu do dolního pravého. Takhle nám model u většiny cukráren predikoval nejvyšší hodnocení.\n",
    "\n",
    "from sklearn.metrics import confusion_matrix\n",
    "from sklearn.metrics import mean_absolute_error\n",
    "cm = confusion_matrix(val_y, prediction)\n",
    "print(cm)\n",
    "\n",
    "from sklearn.model_selection import cross_val_score\n",
    "accuracies = cross_val_score(estimator = our_model, X = train_X, y = train_y, cv = 10)\n",
    "print(\"Accuracy: {:.2f} %\".format(accuracies.mean()*100)) #přesnost modelu\n",
    "print(\"Standard Deviation: {:.2f} %\".format(accuracies.std()*100)) #směrodatná odchylka\n",
    "print(f\"Mean Absolute error: {mean_absolute_error(prediction, val_y)}\") #střední absolutní chyba"
   ]
  }
 ],
 "metadata": {
  "kernelspec": {
   "display_name": "Python 3",
   "language": "python",
   "name": "python3"
  },
  "language_info": {
   "codemirror_mode": {
    "name": "ipython",
    "version": 3
   },
   "file_extension": ".py",
   "mimetype": "text/x-python",
   "name": "python",
   "nbconvert_exporter": "python",
   "pygments_lexer": "ipython3",
   "version": "3.11.2"
  }
 },
 "nbformat": 4,
 "nbformat_minor": 2
}
