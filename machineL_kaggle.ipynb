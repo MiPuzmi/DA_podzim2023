{
 "cells": [
  {
   "cell_type": "code",
   "execution_count": 57,
   "metadata": {},
   "outputs": [
    {
     "data": {
      "text/html": [
       "<div>\n",
       "<style scoped>\n",
       "    .dataframe tbody tr th:only-of-type {\n",
       "        vertical-align: middle;\n",
       "    }\n",
       "\n",
       "    .dataframe tbody tr th {\n",
       "        vertical-align: top;\n",
       "    }\n",
       "\n",
       "    .dataframe thead th {\n",
       "        text-align: right;\n",
       "    }\n",
       "</style>\n",
       "<table border=\"1\" class=\"dataframe\">\n",
       "  <thead>\n",
       "    <tr style=\"text-align: right;\">\n",
       "      <th></th>\n",
       "      <th>ID</th>\n",
       "      <th>score</th>\n",
       "      <th>gps_latitude</th>\n",
       "      <th>gps_longitude</th>\n",
       "      <th>zip</th>\n",
       "    </tr>\n",
       "  </thead>\n",
       "  <tbody>\n",
       "    <tr>\n",
       "      <th>count</th>\n",
       "      <td>527.000000</td>\n",
       "      <td>527.000000</td>\n",
       "      <td>527.000000</td>\n",
       "      <td>527.000000</td>\n",
       "      <td>527.000000</td>\n",
       "    </tr>\n",
       "    <tr>\n",
       "      <th>mean</th>\n",
       "      <td>323.383302</td>\n",
       "      <td>8.827324</td>\n",
       "      <td>50.078207</td>\n",
       "      <td>14.436924</td>\n",
       "      <td>13983.178368</td>\n",
       "    </tr>\n",
       "    <tr>\n",
       "      <th>std</th>\n",
       "      <td>188.310300</td>\n",
       "      <td>1.692798</td>\n",
       "      <td>0.028945</td>\n",
       "      <td>0.053014</td>\n",
       "      <td>2868.603275</td>\n",
       "    </tr>\n",
       "    <tr>\n",
       "      <th>min</th>\n",
       "      <td>1.000000</td>\n",
       "      <td>0.000000</td>\n",
       "      <td>49.968155</td>\n",
       "      <td>14.283988</td>\n",
       "      <td>10000.000000</td>\n",
       "    </tr>\n",
       "    <tr>\n",
       "      <th>25%</th>\n",
       "      <td>159.500000</td>\n",
       "      <td>8.000000</td>\n",
       "      <td>50.070324</td>\n",
       "      <td>14.413787</td>\n",
       "      <td>11000.000000</td>\n",
       "    </tr>\n",
       "    <tr>\n",
       "      <th>50%</th>\n",
       "      <td>327.000000</td>\n",
       "      <td>9.000000</td>\n",
       "      <td>50.082085</td>\n",
       "      <td>14.428641</td>\n",
       "      <td>14000.000000</td>\n",
       "    </tr>\n",
       "    <tr>\n",
       "      <th>75%</th>\n",
       "      <td>486.500000</td>\n",
       "      <td>10.000000</td>\n",
       "      <td>50.092176</td>\n",
       "      <td>14.452478</td>\n",
       "      <td>16000.000000</td>\n",
       "    </tr>\n",
       "    <tr>\n",
       "      <th>max</th>\n",
       "      <td>649.000000</td>\n",
       "      <td>10.000000</td>\n",
       "      <td>50.151558</td>\n",
       "      <td>14.672219</td>\n",
       "      <td>19900.000000</td>\n",
       "    </tr>\n",
       "  </tbody>\n",
       "</table>\n",
       "</div>"
      ],
      "text/plain": [
       "               ID       score  gps_latitude  gps_longitude           zip\n",
       "count  527.000000  527.000000    527.000000     527.000000    527.000000\n",
       "mean   323.383302    8.827324     50.078207      14.436924  13983.178368\n",
       "std    188.310300    1.692798      0.028945       0.053014   2868.603275\n",
       "min      1.000000    0.000000     49.968155      14.283988  10000.000000\n",
       "25%    159.500000    8.000000     50.070324      14.413787  11000.000000\n",
       "50%    327.000000    9.000000     50.082085      14.428641  14000.000000\n",
       "75%    486.500000   10.000000     50.092176      14.452478  16000.000000\n",
       "max    649.000000   10.000000     50.151558      14.672219  19900.000000"
      ]
     },
     "execution_count": 57,
     "metadata": {},
     "output_type": "execute_result"
    }
   ],
   "source": [
    "import pandas as pd\n",
    "data = pd.read_csv('cukrarny_union_vz2.csv')\n",
    "positive_data = data[data['score'] != -1]\n",
    "positive_data.loc[:, 'score'] = positive_data['score'] * 2\n",
    "positive_data.describe()"
   ]
  },
  {
   "cell_type": "code",
   "execution_count": 58,
   "metadata": {},
   "outputs": [],
   "source": [
    "\n",
    "y = positive_data.score"
   ]
  },
  {
   "cell_type": "code",
   "execution_count": 59,
   "metadata": {},
   "outputs": [],
   "source": [
    "positive_features = ['score', 'gps_latitude', 'gps_longitude', 'zip']\n",
    "\n",
    "X = positive_data[positive_features]\n"
   ]
  },
  {
   "cell_type": "code",
   "execution_count": 60,
   "metadata": {},
   "outputs": [],
   "source": [
    "from sklearn.model_selection import train_test_split\n",
    "\n",
    "train_X, val_X, train_y, val_y = train_test_split(X, y, test_size=0.25, random_state = 0)"
   ]
  },
  {
   "cell_type": "code",
   "execution_count": 61,
   "metadata": {},
   "outputs": [
    {
     "data": {
      "text/plain": [
       "0.015151515151515152"
      ]
     },
     "execution_count": 61,
     "metadata": {},
     "output_type": "execute_result"
    }
   ],
   "source": [
    "from sklearn.tree import DecisionTreeClassifier\n",
    "from sklearn.metrics import mean_absolute_error\n",
    "\n",
    "our_model = DecisionTreeClassifier(random_state=0)\n",
    "our_model.fit(train_X, train_y)\n",
    "prediction = our_model.predict(val_X)\n",
    "mean_absolute_error(prediction, val_y)\n"
   ]
  },
  {
   "cell_type": "code",
   "execution_count": 62,
   "metadata": {},
   "outputs": [
    {
     "name": "stdout",
     "output_type": "stream",
     "text": [
      "[[ 0  1  0  0  0  0  0  0  0]\n",
      " [ 0  2  0  0  0  0  0  0  0]\n",
      " [ 0  0  2  0  0  0  0  0  0]\n",
      " [ 0  0  0  4  0  0  0  0  0]\n",
      " [ 0  0  0  0  3  0  0  0  0]\n",
      " [ 0  0  0  0  0  6  0  0  0]\n",
      " [ 0  0  0  0  0  0 19  0  0]\n",
      " [ 0  0  0  0  0  0  0 41  0]\n",
      " [ 0  0  0  0  0  0  0  0 54]]\n",
      "Accuracy: 99.24 %\n",
      "Standard Deviation: 1.16 %\n"
     ]
    },
    {
     "name": "stderr",
     "output_type": "stream",
     "text": [
      "/Library/Frameworks/Python.framework/Versions/3.11/lib/python3.11/site-packages/sklearn/model_selection/_split.py:737: UserWarning: The least populated class in y has only 3 members, which is less than n_splits=10.\n",
      "  warnings.warn(\n"
     ]
    }
   ],
   "source": [
    "from sklearn.metrics import confusion_matrix\n",
    "cm = confusion_matrix(val_y, prediction)\n",
    "print(cm)\n",
    "\n",
    "from sklearn.model_selection import cross_val_score\n",
    "accuracies = cross_val_score(estimator = our_model, X = train_X, y = train_y, cv = 10)\n",
    "print(\"Accuracy: {:.2f} %\".format(accuracies.mean()*100))\n",
    "print(\"Standard Deviation: {:.2f} %\".format(accuracies.std()*100))"
   ]
  }
 ],
 "metadata": {
  "kernelspec": {
   "display_name": "Python 3",
   "language": "python",
   "name": "python3"
  },
  "language_info": {
   "codemirror_mode": {
    "name": "ipython",
    "version": 3
   },
   "file_extension": ".py",
   "mimetype": "text/x-python",
   "name": "python",
   "nbconvert_exporter": "python",
   "pygments_lexer": "ipython3",
   "version": "3.11.2"
  }
 },
 "nbformat": 4,
 "nbformat_minor": 2
}
