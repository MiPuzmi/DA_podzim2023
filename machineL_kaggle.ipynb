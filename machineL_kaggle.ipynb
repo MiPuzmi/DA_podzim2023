{
 "cells": [
  {
   "cell_type": "code",
   "execution_count": 43,
   "metadata": {},
   "outputs": [
    {
     "data": {
      "text/html": [
       "<div>\n",
       "<style scoped>\n",
       "    .dataframe tbody tr th:only-of-type {\n",
       "        vertical-align: middle;\n",
       "    }\n",
       "\n",
       "    .dataframe tbody tr th {\n",
       "        vertical-align: top;\n",
       "    }\n",
       "\n",
       "    .dataframe thead th {\n",
       "        text-align: right;\n",
       "    }\n",
       "</style>\n",
       "<table border=\"1\" class=\"dataframe\">\n",
       "  <thead>\n",
       "    <tr style=\"text-align: right;\">\n",
       "      <th></th>\n",
       "      <th>Unnamed: 0</th>\n",
       "      <th>distance</th>\n",
       "      <th>latitude</th>\n",
       "      <th>longitude</th>\n",
       "      <th>id_cukrarna</th>\n",
       "      <th>zip</th>\n",
       "      <th>gps_latitude</th>\n",
       "      <th>gps_longitude</th>\n",
       "    </tr>\n",
       "  </thead>\n",
       "  <tbody>\n",
       "    <tr>\n",
       "      <th>count</th>\n",
       "      <td>54.000000</td>\n",
       "      <td>54.000000</td>\n",
       "      <td>54.000000</td>\n",
       "      <td>54.00000</td>\n",
       "      <td>54.000000</td>\n",
       "      <td>54.000000</td>\n",
       "      <td>54.000000</td>\n",
       "      <td>54.00000</td>\n",
       "    </tr>\n",
       "    <tr>\n",
       "      <th>mean</th>\n",
       "      <td>45.481481</td>\n",
       "      <td>1.876532</td>\n",
       "      <td>49.964207</td>\n",
       "      <td>14.37977</td>\n",
       "      <td>304.148148</td>\n",
       "      <td>16149.740741</td>\n",
       "      <td>49.964207</td>\n",
       "      <td>14.37977</td>\n",
       "    </tr>\n",
       "    <tr>\n",
       "      <th>std</th>\n",
       "      <td>28.967608</td>\n",
       "      <td>1.134259</td>\n",
       "      <td>0.009252</td>\n",
       "      <td>0.02586</td>\n",
       "      <td>163.293278</td>\n",
       "      <td>2621.646906</td>\n",
       "      <td>0.009252</td>\n",
       "      <td>0.02586</td>\n",
       "    </tr>\n",
       "    <tr>\n",
       "      <th>min</th>\n",
       "      <td>1.000000</td>\n",
       "      <td>0.056080</td>\n",
       "      <td>49.946800</td>\n",
       "      <td>14.33440</td>\n",
       "      <td>74.000000</td>\n",
       "      <td>14300.000000</td>\n",
       "      <td>49.946800</td>\n",
       "      <td>14.33440</td>\n",
       "    </tr>\n",
       "    <tr>\n",
       "      <th>25%</th>\n",
       "      <td>20.250000</td>\n",
       "      <td>0.809539</td>\n",
       "      <td>49.956800</td>\n",
       "      <td>14.35940</td>\n",
       "      <td>271.000000</td>\n",
       "      <td>15531.000000</td>\n",
       "      <td>49.956800</td>\n",
       "      <td>14.35940</td>\n",
       "    </tr>\n",
       "    <tr>\n",
       "      <th>50%</th>\n",
       "      <td>48.500000</td>\n",
       "      <td>1.835160</td>\n",
       "      <td>49.966800</td>\n",
       "      <td>14.37940</td>\n",
       "      <td>271.000000</td>\n",
       "      <td>15600.000000</td>\n",
       "      <td>49.966800</td>\n",
       "      <td>14.37940</td>\n",
       "    </tr>\n",
       "    <tr>\n",
       "      <th>75%</th>\n",
       "      <td>68.750000</td>\n",
       "      <td>2.686747</td>\n",
       "      <td>49.971800</td>\n",
       "      <td>14.39440</td>\n",
       "      <td>278.000000</td>\n",
       "      <td>15600.000000</td>\n",
       "      <td>49.971800</td>\n",
       "      <td>14.39440</td>\n",
       "    </tr>\n",
       "    <tr>\n",
       "      <th>max</th>\n",
       "      <td>93.000000</td>\n",
       "      <td>4.010847</td>\n",
       "      <td>49.976800</td>\n",
       "      <td>14.45940</td>\n",
       "      <td>643.000000</td>\n",
       "      <td>25246.000000</td>\n",
       "      <td>49.976800</td>\n",
       "      <td>14.45940</td>\n",
       "    </tr>\n",
       "  </tbody>\n",
       "</table>\n",
       "</div>"
      ],
      "text/plain": [
       "       Unnamed: 0   distance   latitude  longitude  id_cukrarna           zip  \\\n",
       "count   54.000000  54.000000  54.000000   54.00000    54.000000     54.000000   \n",
       "mean    45.481481   1.876532  49.964207   14.37977   304.148148  16149.740741   \n",
       "std     28.967608   1.134259   0.009252    0.02586   163.293278   2621.646906   \n",
       "min      1.000000   0.056080  49.946800   14.33440    74.000000  14300.000000   \n",
       "25%     20.250000   0.809539  49.956800   14.35940   271.000000  15531.000000   \n",
       "50%     48.500000   1.835160  49.966800   14.37940   271.000000  15600.000000   \n",
       "75%     68.750000   2.686747  49.971800   14.39440   278.000000  15600.000000   \n",
       "max     93.000000   4.010847  49.976800   14.45940   643.000000  25246.000000   \n",
       "\n",
       "       gps_latitude  gps_longitude  \n",
       "count     54.000000       54.00000  \n",
       "mean      49.964207       14.37977  \n",
       "std        0.009252        0.02586  \n",
       "min       49.946800       14.33440  \n",
       "25%       49.956800       14.35940  \n",
       "50%       49.966800       14.37940  \n",
       "75%       49.971800       14.39440  \n",
       "max       49.976800       14.45940  "
      ]
     },
     "execution_count": 43,
     "metadata": {},
     "output_type": "execute_result"
    }
   ],
   "source": [
    "import pandas as pd\n",
    "data = pd.read_csv('cukrarny_union_vz2.csv')\n",
    "data_test = pd.read_csv('testovaci_data.csv')\n",
    "\n",
    "data_test = data_test.dropna()\n",
    "data_test['gps_latitude'] = data_test['latitude']\n",
    "data_test['gps_longitude'] = data_test['longitude']\n",
    "data_test['zip'] = data_test['zip'].replace(' ', '', regex=True)\n",
    "\n",
    "\n",
    "data_test['zip'] = data_test['zip'].astype(int)\n",
    "\n",
    "positive_data = data[data['score'] != -1]\n",
    "positive_data.loc[:, 'score'] = positive_data['score'] * 2\n",
    "positive_data.describe()\n",
    "data_test.describe()"
   ]
  },
  {
   "cell_type": "code",
   "execution_count": 44,
   "metadata": {},
   "outputs": [],
   "source": [
    "\n",
    "y = positive_data.score"
   ]
  },
  {
   "cell_type": "code",
   "execution_count": 45,
   "metadata": {},
   "outputs": [],
   "source": [
    "positive_features = ['gps_latitude', 'gps_longitude', 'zip']\n",
    "\n",
    "X = positive_data[positive_features]\n",
    "\n",
    "data_test_X = data_test[positive_features]\n"
   ]
  },
  {
   "cell_type": "code",
   "execution_count": 46,
   "metadata": {},
   "outputs": [],
   "source": [
    "from sklearn.model_selection import train_test_split\n",
    "\n",
    "train_X, val_X, train_y, val_y = train_test_split(X, y, test_size=0.25, random_state = 0)"
   ]
  },
  {
   "cell_type": "code",
   "execution_count": 47,
   "metadata": {},
   "outputs": [
    {
     "data": {
      "text/plain": [
       "array([10.,  9.,  9., 10., 10., 10., 10., 10., 10., 10., 10., 10., 10.,\n",
       "       10., 10., 10., 10., 10., 10., 10., 10., 10., 10., 10., 10.,  9.,\n",
       "       10., 10., 10., 10., 10., 10., 10., 10., 10., 10., 10., 10., 10.,\n",
       "       10., 10., 10., 10., 10.,  9., 10.,  9., 10., 10., 10., 10., 10.,\n",
       "       10., 10.])"
      ]
     },
     "execution_count": 47,
     "metadata": {},
     "output_type": "execute_result"
    }
   ],
   "source": [
    "from sklearn.tree import DecisionTreeClassifier\n",
    "from sklearn.metrics import mean_absolute_error\n",
    "\n",
    "our_model = DecisionTreeClassifier(random_state=0)\n",
    "our_model.fit(train_X, train_y)\n",
    "prediction = our_model.predict(val_X)\n",
    "mean_absolute_error(prediction, val_y)\n",
    "\n",
    "prediction_point = our_model.predict(data_test_X)\n",
    "prediction_point"
   ]
  },
  {
   "cell_type": "code",
   "execution_count": 48,
   "metadata": {},
   "outputs": [
    {
     "name": "stdout",
     "output_type": "stream",
     "text": [
      "[[ 0  0  0  0  0  0  0  0  0  1]\n",
      " [ 0  0  0  0  0  0  0  0  0  2]\n",
      " [ 0  0  0  0  0  0  0  0  0  0]\n",
      " [ 0  0  0  0  0  0  0  0  0  2]\n",
      " [ 0  0  0  1  1  0  0  0  2  0]\n",
      " [ 0  0  0  0  0  0  0  0  2  1]\n",
      " [ 0  0  0  0  0  0  0  0  2  4]\n",
      " [ 0  0  0  0  0  1  0  2  5 11]\n",
      " [ 0  1  1  0  1  0  2  2 17 17]\n",
      " [ 0  3  1  0  2  1  2 10 14 21]]\n",
      "Accuracy: 32.69 %\n",
      "Standard Deviation: 7.31 %\n"
     ]
    },
    {
     "name": "stderr",
     "output_type": "stream",
     "text": [
      "/Library/Frameworks/Python.framework/Versions/3.11/lib/python3.11/site-packages/sklearn/model_selection/_split.py:737: UserWarning: The least populated class in y has only 3 members, which is less than n_splits=10.\n",
      "  warnings.warn(\n"
     ]
    }
   ],
   "source": [
    "from sklearn.metrics import confusion_matrix\n",
    "cm = confusion_matrix(val_y, prediction)\n",
    "print(cm)\n",
    "\n",
    "from sklearn.model_selection import cross_val_score\n",
    "accuracies = cross_val_score(estimator = our_model, X = train_X, y = train_y, cv = 10)\n",
    "print(\"Accuracy: {:.2f} %\".format(accuracies.mean()*100))\n",
    "print(\"Standard Deviation: {:.2f} %\".format(accuracies.std()*100))"
   ]
  }
 ],
 "metadata": {
  "kernelspec": {
   "display_name": "Python 3",
   "language": "python",
   "name": "python3"
  },
  "language_info": {
   "codemirror_mode": {
    "name": "ipython",
    "version": 3
   },
   "file_extension": ".py",
   "mimetype": "text/x-python",
   "name": "python",
   "nbconvert_exporter": "python",
   "pygments_lexer": "ipython3",
   "version": "3.11.2"
  }
 },
 "nbformat": 4,
 "nbformat_minor": 2
}
