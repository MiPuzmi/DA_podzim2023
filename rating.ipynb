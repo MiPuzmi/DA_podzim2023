{
 "cells": [
  {
   "cell_type": "code",
   "execution_count": 2,
   "metadata": {},
   "outputs": [],
   "source": [
    "#načtení souboru pomocí knihovny pandas\n",
    "import pandas as pd\n",
    "\n",
    "data = pd.read_csv('cukrarny_union_vz2.csv')\n",
    "\n",
    "data_test = pd.read_csv('testovaci_data.csv')"
   ]
  },
  {
   "cell_type": "code",
   "execution_count": 3,
   "metadata": {},
   "outputs": [
    {
     "name": "stderr",
     "output_type": "stream",
     "text": [
      "/var/folders/yk/_3vbg5p15dn369l44x9rzw0w0000gn/T/ipykernel_33505/2096787985.py:3: SettingWithCopyWarning: \n",
      "A value is trying to be set on a copy of a slice from a DataFrame.\n",
      "Try using .loc[row_indexer,col_indexer] = value instead\n",
      "\n",
      "See the caveats in the documentation: https://pandas.pydata.org/pandas-docs/stable/user_guide/indexing.html#returning-a-view-versus-a-copy\n",
      "  dataset['score_class'] = dataset['score'] * 2\n"
     ]
    },
    {
     "data": {
      "text/html": [
       "<div>\n",
       "<style scoped>\n",
       "    .dataframe tbody tr th:only-of-type {\n",
       "        vertical-align: middle;\n",
       "    }\n",
       "\n",
       "    .dataframe tbody tr th {\n",
       "        vertical-align: top;\n",
       "    }\n",
       "\n",
       "    .dataframe thead th {\n",
       "        text-align: right;\n",
       "    }\n",
       "</style>\n",
       "<table border=\"1\" class=\"dataframe\">\n",
       "  <thead>\n",
       "    <tr style=\"text-align: right;\">\n",
       "      <th></th>\n",
       "      <th>gps_latitude</th>\n",
       "      <th>gps_longitude</th>\n",
       "      <th>zip</th>\n",
       "      <th>score_class</th>\n",
       "    </tr>\n",
       "  </thead>\n",
       "  <tbody>\n",
       "    <tr>\n",
       "      <th>0</th>\n",
       "      <td>50.027298</td>\n",
       "      <td>14.415344</td>\n",
       "      <td>14700</td>\n",
       "      <td>10.0</td>\n",
       "    </tr>\n",
       "    <tr>\n",
       "      <th>1</th>\n",
       "      <td>50.098740</td>\n",
       "      <td>14.398405</td>\n",
       "      <td>16000</td>\n",
       "      <td>10.0</td>\n",
       "    </tr>\n",
       "    <tr>\n",
       "      <th>2</th>\n",
       "      <td>50.150238</td>\n",
       "      <td>14.498274</td>\n",
       "      <td>19600</td>\n",
       "      <td>9.0</td>\n",
       "    </tr>\n",
       "    <tr>\n",
       "      <th>3</th>\n",
       "      <td>50.062840</td>\n",
       "      <td>14.314292</td>\n",
       "      <td>15500</td>\n",
       "      <td>9.0</td>\n",
       "    </tr>\n",
       "    <tr>\n",
       "      <th>4</th>\n",
       "      <td>50.044117</td>\n",
       "      <td>14.456076</td>\n",
       "      <td>14000</td>\n",
       "      <td>9.0</td>\n",
       "    </tr>\n",
       "    <tr>\n",
       "      <th>...</th>\n",
       "      <td>...</td>\n",
       "      <td>...</td>\n",
       "      <td>...</td>\n",
       "      <td>...</td>\n",
       "    </tr>\n",
       "    <tr>\n",
       "      <th>643</th>\n",
       "      <td>50.082146</td>\n",
       "      <td>14.417810</td>\n",
       "      <td>11000</td>\n",
       "      <td>10.0</td>\n",
       "    </tr>\n",
       "    <tr>\n",
       "      <th>645</th>\n",
       "      <td>50.087471</td>\n",
       "      <td>14.405745</td>\n",
       "      <td>11800</td>\n",
       "      <td>10.0</td>\n",
       "    </tr>\n",
       "    <tr>\n",
       "      <th>646</th>\n",
       "      <td>50.098026</td>\n",
       "      <td>14.405343</td>\n",
       "      <td>16000</td>\n",
       "      <td>10.0</td>\n",
       "    </tr>\n",
       "    <tr>\n",
       "      <th>647</th>\n",
       "      <td>50.085983</td>\n",
       "      <td>14.417479</td>\n",
       "      <td>11000</td>\n",
       "      <td>10.0</td>\n",
       "    </tr>\n",
       "    <tr>\n",
       "      <th>648</th>\n",
       "      <td>50.066666</td>\n",
       "      <td>14.496106</td>\n",
       "      <td>10000</td>\n",
       "      <td>9.0</td>\n",
       "    </tr>\n",
       "  </tbody>\n",
       "</table>\n",
       "<p>527 rows × 4 columns</p>\n",
       "</div>"
      ],
      "text/plain": [
       "     gps_latitude  gps_longitude    zip  score_class\n",
       "0       50.027298      14.415344  14700         10.0\n",
       "1       50.098740      14.398405  16000         10.0\n",
       "2       50.150238      14.498274  19600          9.0\n",
       "3       50.062840      14.314292  15500          9.0\n",
       "4       50.044117      14.456076  14000          9.0\n",
       "..            ...            ...    ...          ...\n",
       "643     50.082146      14.417810  11000         10.0\n",
       "645     50.087471      14.405745  11800         10.0\n",
       "646     50.098026      14.405343  16000         10.0\n",
       "647     50.085983      14.417479  11000         10.0\n",
       "648     50.066666      14.496106  10000          9.0\n",
       "\n",
       "[527 rows x 4 columns]"
      ]
     },
     "execution_count": 3,
     "metadata": {},
     "output_type": "execute_result"
    }
   ],
   "source": [
    "#nejdříve jsem odtsranila cukrárny s hodnocením -1, pak jsem score vynásobila 2* abych dostala celá čísla\n",
    "dataset = data[data['score'] != -1]\n",
    "dataset['score_class'] = dataset['score'] * 2\n",
    "dataset = dataset[['gps_latitude', 'gps_longitude', 'zip', 'score_class']]\n",
    "dataset"
   ]
  },
  {
   "cell_type": "code",
   "execution_count": 4,
   "metadata": {},
   "outputs": [
    {
     "data": {
      "text/plain": [
       "Text(0.5, 1.0, 'Correlation On Score')"
      ]
     },
     "execution_count": 4,
     "metadata": {},
     "output_type": "execute_result"
    },
    {
     "data": {
      "image/png": "[encoded data removed]",
      "text/plain": [
       "<Figure size 640x480 with 2 Axes>"
      ]
     },
     "metadata": {},
     "output_type": "display_data"
    }
   ],
   "source": [
    "#vztah mezi použitými sloupci, už tady je vidět že tam žádný není\n",
    "import matplotlib.pyplot as plt\n",
    "import seaborn as sns\n",
    "\n",
    "plt.figure(1)\n",
    "sns.heatmap(dataset.corr())\n",
    "plt.title('Correlation On Score')"
   ]
  },
  {
   "cell_type": "code",
   "execution_count": 6,
   "metadata": {},
   "outputs": [
    {
     "name": "stdout",
     "output_type": "stream",
     "text": [
      "     gps_latitude  gps_longitude    zip\n",
      "543     50.028271      14.403640  14700\n",
      "208     50.056732      14.421130  14700\n",
      "368     50.086475      14.413889  11000\n",
      "646     50.098026      14.405343  16000\n",
      "196     50.087700      14.469047  13000\n",
      "..            ...            ...    ...\n",
      "85      50.082737      14.426761  11000\n",
      "341     50.005436      14.416218  14300\n",
      "9       50.046520      14.310788  15500\n",
      "442     50.079002      14.421479  12000\n",
      "230     50.065575      14.452452  10100\n",
      "\n",
      "[421 rows x 3 columns]\n",
      "[ 9. 10.  7.  9.  9. 10.  9.  9. 10.  9.  9. 10. 10. 10. 10. 10. 10. 10.\n",
      " 10.  7.  9. 10.  9. 10. 10. 10.  9.  8. 10.  8. 10. 10.  8.  9.  8.  9.\n",
      "  8.  4.  4.  8. 10.  9.  9.  9. 10.  7.  9.  8.  9. 10. 10.  9.  7.  9.\n",
      "  9. 10. 10.  9.  9.  9.  9.  5. 10. 10.  8. 10. 10.  8.  5.  8.  9. 10.\n",
      " 10. 10. 10.  8. 10.  9.  9.  8. 10.  2. 10. 10.  9.  8. 10. 10. 10.  8.\n",
      " 10.  9.  2.  9.  7. 10. 10.  9.  0. 10. 10. 10.  9.  9.  6.  8.]\n"
     ]
    }
   ],
   "source": [
    "#rozdělení datasetu na test a train a oddělení score od zbytku hodnot\n",
    "X = dataset.iloc[:,:-1]\n",
    "y = dataset.iloc[:, -1].values\n",
    "\n",
    "from sklearn.model_selection import train_test_split\n",
    "X_train, X_test, y_train, y_test = train_test_split(X, y, test_size = 0.2, random_state = 0)\n",
    "\n",
    "print(X_train)\n",
    "print(y_test)\n"
   ]
  },
  {
   "cell_type": "code",
   "execution_count": 7,
   "metadata": {},
   "outputs": [],
   "source": [
    "#klasifikace pomocí DecisionTreeClassifier\n",
    "from sklearn import tree\n",
    "clf = tree.DecisionTreeClassifier()\n",
    "clf = clf.fit(X_train, y_train)\n",
    "# tree.plot_tree(clf)"
   ]
  },
  {
   "cell_type": "code",
   "execution_count": 8,
   "metadata": {},
   "outputs": [],
   "source": [
    "#předpověď \n",
    "y_pred = clf.predict(X_test)\n",
    "\n",
    "\n"
   ]
  },
  {
   "cell_type": "code",
   "execution_count": 9,
   "metadata": {},
   "outputs": [
    {
     "name": "stdout",
     "output_type": "stream",
     "text": [
      "[[ 0  0  0  0  0  0  0  0  1  0]\n",
      " [ 0  0  0  0  0  0  0  0  1  1]\n",
      " [ 0  0  0  0  0  0  0  0  0  0]\n",
      " [ 0  0  0  0  0  0  0  0  0  2]\n",
      " [ 0  0  0  0  1  1  0  0  0  0]\n",
      " [ 0  0  0  0  0  0  0  0  0  1]\n",
      " [ 0  0  0  0  0  0  0  0  1  4]\n",
      " [ 0  0  0  0  0  0  0  2  2 11]\n",
      " [ 0  0  1  0  1  0  1  2 13 15]\n",
      " [ 0  1  0  0  1  2  2  5 11 23]]\n",
      "Accuracy: 29.24 %\n",
      "Standard Deviation: 6.80 %\n"
     ]
    },
    {
     "name": "stderr",
     "output_type": "stream",
     "text": [
      "/Library/Frameworks/Python.framework/Versions/3.11/lib/python3.11/site-packages/sklearn/model_selection/_split.py:737: UserWarning: The least populated class in y has only 3 members, which is less than n_splits=10.\n",
      "  warnings.warn(\n"
     ]
    }
   ],
   "source": [
    "#kontrola správnosti předpovědi\n",
    "from sklearn.metrics import confusion_matrix\n",
    "cm = confusion_matrix(y_test, y_pred)\n",
    "print(cm)\n",
    "\n",
    "from sklearn.model_selection import cross_val_score\n",
    "accuracies = cross_val_score(estimator = clf, X = X_train, y = y_train, cv = 10)\n",
    "print(\"Accuracy: {:.2f} %\".format(accuracies.mean()*100))\n",
    "print(\"Standard Deviation: {:.2f} %\".format(accuracies.std()*100))"
   ]
  }
 ],
 "metadata": {
  "kernelspec": {
   "display_name": "Python 3",
   "language": "python",
   "name": "python3"
  },
  "language_info": {
   "codemirror_mode": {
    "name": "ipython",
    "version": 3
   },
   "file_extension": ".py",
   "mimetype": "text/x-python",
   "name": "python",
   "nbconvert_exporter": "python",
   "pygments_lexer": "ipython3",
   "version": "3.11.2"
  }
 },
 "nbformat": 4,
 "nbformat_minor": 2
}
