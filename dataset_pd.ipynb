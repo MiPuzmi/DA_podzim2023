{
 "cells": [
  {
   "cell_type": "code",
   "execution_count": 24,
   "metadata": {},
   "outputs": [],
   "source": [
    "import pandas as pd\n",
    "import requests\n",
    "from functools import cache"
   ]
  },
  {
   "cell_type": "code",
   "execution_count": 25,
   "metadata": {},
   "outputs": [],
   "source": [
    "URL = 'https://api.mapy.cz/v1/rgeocode'\n",
    "\n",
    "API_KLIC = 'EhFn9TSCc7QqGHbbwoie2blwxZ7w_S5XTllYwb8b2O8'\n",
    "#'eyJpIjoyNTcsImMiOjE2Njc0ODU2MjN9.c_UlvdpHGTI_Jb-TNMYlDYuIkCLJaUpi911RdlwPsAY'\n",
    "\n",
    "LANG = 'cs'\n",
    "\n",
    "# HEADERS = {\n",
    "# \"Origin\": \"https://pro.mapy.cz\",\n",
    "# \"Referer\": \"https://pro.mapy.cz/\",\n",
    "# \"Sec-Fetch-Dest\": \"empty\",\n",
    "# \"Sec-Fetch-Mode\": \"cors\",\n",
    "# \"Sec-Fetch-Site\": \"same-site\",\n",
    "# \"User-Agent\": \"Mozilla/5.0 (Macintosh; Intel Mac OS X 10_15_7) AppleWebKit/537.36 (KHTML, like Gecko) Chrome/119.0.0.0 Safari/537.36\"\n",
    "# }"
   ]
  },
  {
   "cell_type": "code",
   "execution_count": 26,
   "metadata": {},
   "outputs": [],
   "source": [
    "@cache\n",
    "def rgeo(lon: float, lat: float) -> tuple[str, str]: \n",
    "    r = requests.get(URL, params={\n",
    "        'lang': LANG,\n",
    "    'lon': lon,\n",
    "    'lat': lat,\n",
    "    'apikey': API_KLIC,\n",
    "    })\n",
    "    # print(r.status_code, r.reason)\n",
    "    data = r.json()\n",
    "\n",
    "    return data"
   ]
  },
  {
   "cell_type": "code",
   "execution_count": 27,
   "metadata": {},
   "outputs": [],
   "source": [
    "df = pd.read_csv(\"novy_grid.csv\", encoding=\"utf-8\")"
   ]
  },
  {
   "cell_type": "code",
   "execution_count": 28,
   "metadata": {},
   "outputs": [
    {
     "data": {
      "text/html": [
       "<div>\n",
       "<style scoped>\n",
       "    .dataframe tbody tr th:only-of-type {\n",
       "        vertical-align: middle;\n",
       "    }\n",
       "\n",
       "    .dataframe tbody tr th {\n",
       "        vertical-align: top;\n",
       "    }\n",
       "\n",
       "    .dataframe thead th {\n",
       "        text-align: right;\n",
       "    }\n",
       "</style>\n",
       "<table border=\"1\" class=\"dataframe\">\n",
       "  <thead>\n",
       "    <tr style=\"text-align: right;\">\n",
       "      <th></th>\n",
       "      <th>distance</th>\n",
       "      <th>latitude</th>\n",
       "      <th>longitude</th>\n",
       "      <th>geometry</th>\n",
       "      <th>id_cukrarna</th>\n",
       "      <th>distance_mhd</th>\n",
       "      <th>name_mhd</th>\n",
       "    </tr>\n",
       "  </thead>\n",
       "  <tbody>\n",
       "    <tr>\n",
       "      <th>0</th>\n",
       "      <td>2.400607</td>\n",
       "      <td>49.9468</td>\n",
       "      <td>14.3894</td>\n",
       "      <td>POINT (14.3894 49.9468)</td>\n",
       "      <td>271</td>\n",
       "      <td>0.567415</td>\n",
       "      <td>Jíloviště,Výzkumný ústav</td>\n",
       "    </tr>\n",
       "    <tr>\n",
       "      <th>1</th>\n",
       "      <td>2.548011</td>\n",
       "      <td>49.9468</td>\n",
       "      <td>14.3944</td>\n",
       "      <td>POINT (14.3944 49.9468)</td>\n",
       "      <td>271</td>\n",
       "      <td>0.128849</td>\n",
       "      <td>Strnady</td>\n",
       "    </tr>\n",
       "    <tr>\n",
       "      <th>2</th>\n",
       "      <td>4.010847</td>\n",
       "      <td>49.9518</td>\n",
       "      <td>14.3394</td>\n",
       "      <td>POINT (14.3394 49.9518)</td>\n",
       "      <td>589</td>\n",
       "      <td>0.179248</td>\n",
       "      <td>Kazín</td>\n",
       "    </tr>\n",
       "    <tr>\n",
       "      <th>3</th>\n",
       "      <td>3.769092</td>\n",
       "      <td>49.9518</td>\n",
       "      <td>14.3444</td>\n",
       "      <td>POINT (14.3444 49.9518)</td>\n",
       "      <td>589</td>\n",
       "      <td>0.405534</td>\n",
       "      <td>Kazín</td>\n",
       "    </tr>\n",
       "    <tr>\n",
       "      <th>4</th>\n",
       "      <td>3.597397</td>\n",
       "      <td>49.9518</td>\n",
       "      <td>14.3494</td>\n",
       "      <td>POINT (14.3494 49.9518)</td>\n",
       "      <td>589</td>\n",
       "      <td>0.936626</td>\n",
       "      <td>Ke Kazínu</td>\n",
       "    </tr>\n",
       "  </tbody>\n",
       "</table>\n",
       "</div>"
      ],
      "text/plain": [
       "   distance  latitude  longitude                 geometry  id_cukrarna  \\\n",
       "0  2.400607   49.9468    14.3894  POINT (14.3894 49.9468)          271   \n",
       "1  2.548011   49.9468    14.3944  POINT (14.3944 49.9468)          271   \n",
       "2  4.010847   49.9518    14.3394  POINT (14.3394 49.9518)          589   \n",
       "3  3.769092   49.9518    14.3444  POINT (14.3444 49.9518)          589   \n",
       "4  3.597397   49.9518    14.3494  POINT (14.3494 49.9518)          589   \n",
       "\n",
       "   distance_mhd                  name_mhd  \n",
       "0      0.567415  Jíloviště,Výzkumný ústav  \n",
       "1      0.128849                   Strnady  \n",
       "2      0.179248                     Kazín  \n",
       "3      0.405534                     Kazín  \n",
       "4      0.936626                 Ke Kazínu  "
      ]
     },
     "execution_count": 28,
     "metadata": {},
     "output_type": "execute_result"
    }
   ],
   "source": [
    "df.head()"
   ]
  },
  {
   "cell_type": "code",
   "execution_count": 29,
   "metadata": {},
   "outputs": [
    {
     "data": {
      "text/plain": [
       "{'items': [{'name': 'Praha-Zbraslav',\n",
       "   'label': 'Městská část',\n",
       "   'position': {'lon': 14.3799, 'lat': 49.97403},\n",
       "   'type': 'regional.municipality_part',\n",
       "   'location': 'Praha, Česko',\n",
       "   'regionalStructure': [{'name': 'Praha-Zbraslav',\n",
       "     'type': 'regional.municipality_part'},\n",
       "    {'name': 'Praha', 'type': 'regional.municipality'},\n",
       "    {'name': 'okres Hlavní město Praha', 'type': 'regional.region'},\n",
       "    {'name': 'kraj Hlavní město Praha', 'type': 'regional.region'},\n",
       "    {'name': 'Česko', 'type': 'regional.country', 'isoCode': 'CZ'}]}],\n",
       " 'location_boxes': {}}"
      ]
     },
     "execution_count": 29,
     "metadata": {},
     "output_type": "execute_result"
    }
   ],
   "source": [
    "rgeo(14.3894, 49.9468)"
   ]
  },
  {
   "cell_type": "code",
   "execution_count": 30,
   "metadata": {},
   "outputs": [],
   "source": [
    "def rgeo_to_name_and_zip(data):\n",
    "    name, street, number = None, None, None\n",
    "    for i in data['items'][0]['regionalStructure']:\n",
    "        if i['type'] == 'regional.municipality_part':\n",
    "            name = i['name'].replace('Praha-', '')\n",
    "        if i['type'] == 'regional.street':\n",
    "            street = i['name']\n",
    "        if i['type'] == 'regional.address':\n",
    "            number = i['name']\n",
    "    # if 'zip' in data['items'][0]:        \n",
    "    #     _zip = data['items'][0]['zip']\n",
    "    return name, street, number"
   ]
  },
  {
   "cell_type": "code",
   "execution_count": 31,
   "metadata": {},
   "outputs": [],
   "source": [
    "df = df[:100]"
   ]
  },
  {
   "cell_type": "code",
   "execution_count": 32,
   "metadata": {},
   "outputs": [],
   "source": [
    "df[\"rgeo_data\"] = df.apply(lambda row: rgeo(row.longitude, row.latitude), axis=1)\n",
    "df[[\"name\", \"street\", \"number\"]] = df[\"rgeo_data\"].apply(rgeo_to_name_and_zip).apply(pd.Series)\n",
    "df.drop(columns=[\"rgeo_data\"], inplace=True)"
   ]
  },
  {
   "cell_type": "code",
   "execution_count": 33,
   "metadata": {},
   "outputs": [
    {
     "name": "stdout",
     "output_type": "stream",
     "text": [
      "<class 'pandas.core.frame.DataFrame'>\n",
      "RangeIndex: 100 entries, 0 to 99\n",
      "Data columns (total 10 columns):\n",
      " #   Column        Non-Null Count  Dtype  \n",
      "---  ------        --------------  -----  \n",
      " 0   distance      100 non-null    float64\n",
      " 1   latitude      100 non-null    float64\n",
      " 2   longitude     100 non-null    float64\n",
      " 3   geometry      100 non-null    object \n",
      " 4   id_cukrarna   100 non-null    int64  \n",
      " 5   distance_mhd  100 non-null    float64\n",
      " 6   name_mhd      100 non-null    object \n",
      " 7   name          92 non-null     object \n",
      " 8   street        59 non-null     object \n",
      " 9   number        54 non-null     object \n",
      "dtypes: float64(4), int64(1), object(5)\n",
      "memory usage: 7.9+ KB\n"
     ]
    }
   ],
   "source": [
    "df.info()"
   ]
  },
  {
   "cell_type": "code",
   "execution_count": 34,
   "metadata": {},
   "outputs": [],
   "source": [
    "df.to_csv(\"soubory/kompletni_data.csv\")"
   ]
  }
 ],
 "metadata": {
  "kernelspec": {
   "display_name": "Python 3",
   "language": "python",
   "name": "python3"
  },
  "language_info": {
   "codemirror_mode": {
    "name": "ipython",
    "version": 3
   },
   "file_extension": ".py",
   "mimetype": "text/x-python",
   "name": "python",
   "nbconvert_exporter": "python",
   "pygments_lexer": "ipython3",
   "version": "3.11.2"
  }
 },
 "nbformat": 4,
 "nbformat_minor": 2
}
