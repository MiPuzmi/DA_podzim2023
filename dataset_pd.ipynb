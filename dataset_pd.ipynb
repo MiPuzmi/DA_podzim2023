{
 "cells": [
  {
   "cell_type": "code",
   "execution_count": 49,
   "metadata": {},
   "outputs": [],
   "source": [
    "import pandas as pd\n",
    "import requests\n",
    "from functools import cache"
   ]
  },
  {
   "cell_type": "code",
   "execution_count": 50,
   "metadata": {},
   "outputs": [],
   "source": [
    "url = 'https://api.mapy.cz/v1/rgeocode'\n",
    "\n",
    "api_klic = 'eyJpIjoyNTcsImMiOjE2Njc0ODU2MjN9.c_UlvdpHGTI_Jb-TNMYlDYuIkCLJaUpi911RdlwPsAY'\n",
    "\n",
    "lang = 'cs'\n",
    "\n",
    "headers = {\n",
    "\"Origin\": \"https://pro.mapy.cz\",\n",
    "\"Referer\": \"https://pro.mapy.cz/\",\n",
    "\"Sec-Fetch-Dest\": \"empty\",\n",
    "\"Sec-Fetch-Mode\": \"cors\",\n",
    "\"Sec-Fetch-Site\": \"same-site\",\n",
    "\"User-Agent\": \"Mozilla/5.0 (Macintosh; Intel Mac OS X 10_15_7) AppleWebKit/537.36 (KHTML, like Gecko) Chrome/119.0.0.0 Safari/537.36\"\n",
    "}"
   ]
  },
  {
   "cell_type": "code",
   "execution_count": 51,
   "metadata": {},
   "outputs": [],
   "source": [
    "@cache\n",
    "def rgeo(lon: float, lat: float) -> tuple[str, str]: \n",
    "    r = requests.get(url, headers=headers, params={\n",
    "        'lang': lang,\n",
    "    'lon': lon,\n",
    "    'lat': lat,\n",
    "    'apikey': api_klic,\n",
    "    })\n",
    "    # print(r.status_code, r.reason)\n",
    "    data = r.json()\n",
    "\n",
    "    return data"
   ]
  },
  {
   "cell_type": "code",
   "execution_count": 52,
   "metadata": {},
   "outputs": [],
   "source": [
    "df = pd.read_csv(\"novy_grid.csv\", encoding=\"utf-8\")"
   ]
  },
  {
   "cell_type": "code",
   "execution_count": 53,
   "metadata": {},
   "outputs": [
    {
     "data": {
      "text/html": [
       "<div>\n",
       "<style scoped>\n",
       "    .dataframe tbody tr th:only-of-type {\n",
       "        vertical-align: middle;\n",
       "    }\n",
       "\n",
       "    .dataframe tbody tr th {\n",
       "        vertical-align: top;\n",
       "    }\n",
       "\n",
       "    .dataframe thead th {\n",
       "        text-align: right;\n",
       "    }\n",
       "</style>\n",
       "<table border=\"1\" class=\"dataframe\">\n",
       "  <thead>\n",
       "    <tr style=\"text-align: right;\">\n",
       "      <th></th>\n",
       "      <th>distance</th>\n",
       "      <th>latitude</th>\n",
       "      <th>longitude</th>\n",
       "      <th>geometry</th>\n",
       "      <th>id_cukrarna</th>\n",
       "      <th>Praha</th>\n",
       "    </tr>\n",
       "  </thead>\n",
       "  <tbody>\n",
       "    <tr>\n",
       "      <th>0</th>\n",
       "      <td>2.400607</td>\n",
       "      <td>49.9468</td>\n",
       "      <td>14.3894</td>\n",
       "      <td>POINT (14.3894 49.9468)</td>\n",
       "      <td>271</td>\n",
       "      <td>True</td>\n",
       "    </tr>\n",
       "    <tr>\n",
       "      <th>1</th>\n",
       "      <td>2.548011</td>\n",
       "      <td>49.9468</td>\n",
       "      <td>14.3944</td>\n",
       "      <td>POINT (14.3944 49.9468)</td>\n",
       "      <td>271</td>\n",
       "      <td>True</td>\n",
       "    </tr>\n",
       "    <tr>\n",
       "      <th>2</th>\n",
       "      <td>4.010847</td>\n",
       "      <td>49.9518</td>\n",
       "      <td>14.3394</td>\n",
       "      <td>POINT (14.3394 49.9518)</td>\n",
       "      <td>589</td>\n",
       "      <td>True</td>\n",
       "    </tr>\n",
       "    <tr>\n",
       "      <th>3</th>\n",
       "      <td>3.769092</td>\n",
       "      <td>49.9518</td>\n",
       "      <td>14.3444</td>\n",
       "      <td>POINT (14.3444 49.9518)</td>\n",
       "      <td>589</td>\n",
       "      <td>True</td>\n",
       "    </tr>\n",
       "    <tr>\n",
       "      <th>4</th>\n",
       "      <td>3.597397</td>\n",
       "      <td>49.9518</td>\n",
       "      <td>14.3494</td>\n",
       "      <td>POINT (14.3494 49.9518)</td>\n",
       "      <td>589</td>\n",
       "      <td>True</td>\n",
       "    </tr>\n",
       "  </tbody>\n",
       "</table>\n",
       "</div>"
      ],
      "text/plain": [
       "   distance  latitude  longitude                 geometry  id_cukrarna  Praha\n",
       "0  2.400607   49.9468    14.3894  POINT (14.3894 49.9468)          271   True\n",
       "1  2.548011   49.9468    14.3944  POINT (14.3944 49.9468)          271   True\n",
       "2  4.010847   49.9518    14.3394  POINT (14.3394 49.9518)          589   True\n",
       "3  3.769092   49.9518    14.3444  POINT (14.3444 49.9518)          589   True\n",
       "4  3.597397   49.9518    14.3494  POINT (14.3494 49.9518)          589   True"
      ]
     },
     "execution_count": 53,
     "metadata": {},
     "output_type": "execute_result"
    }
   ],
   "source": [
    "df.head()"
   ]
  },
  {
   "cell_type": "code",
   "execution_count": 54,
   "metadata": {},
   "outputs": [
    {
     "data": {
      "text/plain": [
       "{'items': [{'name': 'Praha-Zbraslav',\n",
       "   'label': 'Městská část',\n",
       "   'position': {'lon': 14.3799, 'lat': 49.97403},\n",
       "   'type': 'regional.municipality_part',\n",
       "   'location': 'Praha, Česko',\n",
       "   'regionalStructure': [{'name': 'Praha-Zbraslav',\n",
       "     'type': 'regional.municipality_part'},\n",
       "    {'name': 'Praha', 'type': 'regional.municipality'},\n",
       "    {'name': 'okres Hlavní město Praha', 'type': 'regional.region'},\n",
       "    {'name': 'kraj Hlavní město Praha', 'type': 'regional.region'},\n",
       "    {'name': 'Česko', 'type': 'regional.country', 'isoCode': 'CZ'}]}],\n",
       " 'location_boxes': {}}"
      ]
     },
     "execution_count": 54,
     "metadata": {},
     "output_type": "execute_result"
    }
   ],
   "source": [
    "rgeo(14.3894, 49.9468)"
   ]
  },
  {
   "cell_type": "code",
   "execution_count": 55,
   "metadata": {},
   "outputs": [],
   "source": [
    "def rgeo_to_name_and_zip(data):\n",
    "    name, _zip = None, None\n",
    "    for i in data['items'][0]['regionalStructure']:\n",
    "        if i['type'] == 'regional.municipality_part':\n",
    "            name = i['name']\n",
    "    if 'zip' in data['items'][0]:        \n",
    "        _zip = data['items'][0]['zip']\n",
    "    return name, _zip"
   ]
  },
  {
   "cell_type": "code",
   "execution_count": 56,
   "metadata": {},
   "outputs": [],
   "source": [
    "# df = df[:100]"
   ]
  },
  {
   "cell_type": "code",
   "execution_count": 57,
   "metadata": {},
   "outputs": [],
   "source": [
    "df[\"rgeo_data\"] = df.apply(lambda row: rgeo(row.longitude, row.latitude), axis=1)\n",
    "df[[\"name\", \"zip\"]] = df[\"rgeo_data\"].apply(rgeo_to_name_and_zip).apply(pd.Series)\n",
    "df.drop(columns=[\"rgeo_data\"], inplace=True)"
   ]
  },
  {
   "cell_type": "code",
   "execution_count": 58,
   "metadata": {},
   "outputs": [
    {
     "name": "stdout",
     "output_type": "stream",
     "text": [
      "<class 'pandas.core.frame.DataFrame'>\n",
      "RangeIndex: 2490 entries, 0 to 2489\n",
      "Data columns (total 8 columns):\n",
      " #   Column       Non-Null Count  Dtype  \n",
      "---  ------       --------------  -----  \n",
      " 0   distance     2490 non-null   float64\n",
      " 1   latitude     2490 non-null   float64\n",
      " 2   longitude    2490 non-null   float64\n",
      " 3   geometry     2490 non-null   object \n",
      " 4   id_cukrarna  2490 non-null   int64  \n",
      " 5   Praha        2490 non-null   bool   \n",
      " 6   name         2192 non-null   object \n",
      " 7   zip          1407 non-null   object \n",
      "dtypes: bool(1), float64(3), int64(1), object(3)\n",
      "memory usage: 138.7+ KB\n"
     ]
    }
   ],
   "source": [
    "df.info()"
   ]
  },
  {
   "cell_type": "code",
   "execution_count": 59,
   "metadata": {},
   "outputs": [],
   "source": [
    "df.to_csv(\"kompletni_data.csv\")"
   ]
  }
 ],
 "metadata": {
  "kernelspec": {
   "display_name": "Python 3",
   "language": "python",
   "name": "python3"
  },
  "language_info": {
   "codemirror_mode": {
    "name": "ipython",
    "version": 3
   },
   "file_extension": ".py",
   "mimetype": "text/x-python",
   "name": "python",
   "nbconvert_exporter": "python",
   "pygments_lexer": "ipython3",
   "version": "3.11.2"
  }
 },
 "nbformat": 4,
 "nbformat_minor": 2
}
